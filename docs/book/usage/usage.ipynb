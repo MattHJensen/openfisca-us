{
 "cells": [
  {
   "cell_type": "markdown",
   "metadata": {},
   "source": [
    "# Using OpenFisca US\n",
    "\n",
    "This notebook shows how to use OpenFisca US to compute the impact of reforms to tax-benefit policies modelled.\n",
    "\n",
    "## 1. Simulating the baseline"
   ]
  },
  {
   "cell_type": "code",
   "execution_count": 1,
   "metadata": {},
   "outputs": [
    {
     "data": {
      "text/plain": [
       "array([1840.5], dtype=float32)"
      ]
     },
     "execution_count": 1,
     "metadata": {},
     "output_type": "execute_result"
    }
   ],
   "source": [
    "from openfisca_us import IndividualSim, Microsimulation\n",
    "\n",
    "# OpenFisca US has two main classes that can be instantiated.\n",
    "# IndividualSim() creates an object representing a single household,\n",
    "# allowing you to manually specify income, demographics and expenses.\n",
    "\n",
    "# Microsimulation() creates an object representing a survey dataset of\n",
    "# households, allowing you to simulate country-wide impacts without\n",
    "# having to manually specify households.\n",
    "\n",
    "sim = IndividualSim() # We'll specify a household.\n",
    "sim.add_person(age=26, name=\"adult\", employment_income=30_000) # Add people, specifying their input variables.\n",
    "sim.add_tax_unit(members=[\"adult\"]) # Add groups, specifying the inputs and members.\n",
    "sim.calc(\"income_tax\") # sim.calc (in both classes) takes a variable and simulates its formula.\n"
   ]
  },
  {
   "cell_type": "code",
   "execution_count": 2,
   "metadata": {},
   "outputs": [
    {
     "data": {
      "text/plain": [
       "             value       weight\n",
       "0      -560.000000   687.710022\n",
       "1         0.000000   687.710022\n",
       "2      5289.000000  1516.949951\n",
       "3      1240.500000  1516.949951\n",
       "4         0.000000  1483.560059\n",
       "...            ...          ...\n",
       "84167     0.000000   470.359985\n",
       "84168  5276.950195   312.350006\n",
       "84169     0.000000   514.109985\n",
       "84170  9041.113281   516.250000\n",
       "84171  3512.040039   386.369995\n",
       "\n",
       "[84172 rows x 2 columns]"
      ]
     },
     "execution_count": 2,
     "metadata": {},
     "output_type": "execute_result"
    }
   ],
   "source": [
    "sim = Microsimulation()\n",
    "sim.calc(\"income_tax\") # Here, sim.calc returns a much larger array."
   ]
  },
  {
   "cell_type": "markdown",
   "metadata": {},
   "source": [
    "## 2. Defining a reform"
   ]
  },
  {
   "cell_type": "code",
   "execution_count": 6,
   "metadata": {},
   "outputs": [
    {
     "name": "stdout",
     "output_type": "stream",
     "text": [
      "Income tax increases by $1,554\n"
     ]
    }
   ],
   "source": [
    "from openfisca_us.model_api import * # The model API gives us all the tools to specify reforms.\n",
    "\n",
    "sim = IndividualSim()\n",
    "sim.add_person(age=26, name=\"adult\", employment_income=30_000)\n",
    "sim.add_tax_unit(members=[\"adult\"])\n",
    "\n",
    "class reform(Reform):\n",
    "    def apply(self):\n",
    "        self.neutralize_variable(\"standard_deduction\") # Force the standard deduction to zero.\n",
    "        # self.modify_parameters(f: parameters -> parameters) updates the parameter tree\n",
    "        # self.update_variable(new variable class definition) changes a variable.\n",
    "        # self.add_variable(new variable class definition) adds a variable.\n",
    "\n",
    "reformed_sim = IndividualSim(reform)\n",
    "reformed_sim.add_person(age=26, name=\"adult\", employment_income=30_000)\n",
    "reformed_sim.add_tax_unit(members=[\"adult\"])\n",
    "\n",
    "reformed_tax = reformed_sim.calc(\"income_tax\")[0]\n",
    "baseline_tax = sim.calc(\"income_tax\")[0]\n",
    "\n",
    "print(f\"Income tax increases by ${reformed_tax - baseline_tax:,.0f}\")"
   ]
  }
 ],
 "metadata": {
  "kernelspec": {
   "display_name": "Python 3.7.11 ('policyengine')",
   "language": "python",
   "name": "python3"
  },
  "language_info": {
   "codemirror_mode": {
    "name": "ipython",
    "version": 3
   },
   "file_extension": ".py",
   "mimetype": "text/x-python",
   "name": "python",
   "nbconvert_exporter": "python",
   "pygments_lexer": "ipython3",
   "version": "3.7.11"
  },
  "orig_nbformat": 4,
  "vscode": {
   "interpreter": {
    "hash": "8dfc7b25af29ff50af05ad7ef5344155df419318e539ca710572e6dd4f9023a3"
   }
  }
 },
 "nbformat": 4,
 "nbformat_minor": 2
}
